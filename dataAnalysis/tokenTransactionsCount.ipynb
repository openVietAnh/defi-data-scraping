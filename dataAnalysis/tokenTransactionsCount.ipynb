{
 "cells": [
  {
   "cell_type": "code",
   "execution_count": 3,
   "metadata": {},
   "outputs": [],
   "source": [
    "files = [\n",
    "    (\"/home/abel/defi-scraping/csvData/borrow.csv\", (3,)),\n",
    "    (\"/home/abel/defi-scraping/csvData/deposit.csv\", (2,)),\n",
    "    (\"/home/abel/defi-scraping/csvData/flashLoan.csv\", (1,)),\n",
    "    (\"/home/abel/defi-scraping/csvData/liquidationCall.csv\", (3, 5)),\n",
    "    (\"/home/abel/defi-scraping/csvData/rebalanceStableBorrowRate.csv\", (3,)),\n",
    "    (\"/home/abel/defi-scraping/csvData/redeemUnderlying.csv\", (4,)),\n",
    "    (\"/home/abel/defi-scraping/csvData/repay.csv\", (4,)),\n",
    "    (\"/home/abel/defi-scraping/csvData/swap.csv\", (3,)),\n",
    "    (\"/home/abel/defi-scraping/csvData/usageAsCollateral.csv\", (3,)),   \n",
    "]"
   ]
  },
  {
   "cell_type": "code",
   "execution_count": 6,
   "metadata": {},
   "outputs": [
    {
     "name": "stdout",
     "output_type": "stream",
     "text": [
      "WETH : 295826\n",
      "USDC : 253812\n",
      "DAI : 116225\n",
      "USDT : 115140\n",
      "WBTC : 69502\n",
      "LINK : 64419\n",
      "AAVE : 30437\n",
      "CRV : 29486\n",
      "STETH : 20540\n",
      "UNI : 18100\n",
      "SNX : 16565\n",
      "XSUSHI : 16270\n",
      "AMPL : 15604\n",
      "YFI : 14249\n",
      "SUSD : 13320\n",
      "GUSD : 11169\n",
      "BUSD : 9994\n",
      "MKR : 8760\n",
      "MANA : 8161\n",
      "BAL : 7533\n",
      "TUSD : 7376\n",
      "REN : 7243\n",
      "ENJ : 7088\n",
      "AmmWETH : 5295\n",
      "RAI : 4283\n",
      "BAT : 3626\n",
      "KNC : 2987\n",
      "AmmUSDC : 2812\n",
      "ZRX : 2411\n",
      "AmmDAI : 2361\n",
      "FEI : 2308\n",
      "AmmUSDT : 1992\n",
      "FRAX : 1778\n",
      "UST : 1336\n",
      "DPI : 834\n",
      "ENS : 692\n",
      "PAX : 641\n",
      "AmmWBTC : 633\n",
      "AmmBptBALWETH : 417\n",
      "RENFIL : 257\n",
      "AmmUniUSDCWETH : 255\n",
      "AmmBptWBTCWETH : 248\n",
      "AmmUniUNIWETH : 166\n",
      "AmmUniWBTCWETH : 130\n",
      "AmmUniDAIWETH : 100\n",
      "AmmUniLINKWETH : 98\n",
      "AmmUniAAVEWETH : 41\n",
      "AmmUniCRVWETH : 26\n",
      "AmmUniWBTCUSDC : 23\n",
      "AmmUniYFIWETH : 17\n",
      "AmmUniRENWETH : 16\n",
      "AmmUniMKRWETH : 14\n",
      "AmmUniSNXWETH : 13\n",
      "AmmUniBATWETH : 9\n",
      "AmmUniDAIUSDC : 6\n",
      "AmmGUniUSDCUSDT : 5\n",
      "AmmGUniDAIUSDC : 5\n"
     ]
    }
   ],
   "source": [
    "import csv\n",
    "\n",
    "tokenCount = {}\n",
    "for f in files:\n",
    "    with open(f[0], \"r\") as csvfile:\n",
    "        reader = csv.reader(csvfile, delimiter=\",\")\n",
    "        next(reader, None)\n",
    "        for item in reader:\n",
    "            for index in f[1]:\n",
    "                try:\n",
    "                    tokenCount[item[index]] += 1\n",
    "                except:\n",
    "                    tokenCount[item[index]] = 1\n",
    "\n",
    "tokenCount\n",
    "sortData = [(key, value) for key, value in tokenCount.items()]\n",
    "sortData.sort(key=lambda x: x[1], reverse=True)\n",
    "for item in sortData:\n",
    "    print(item[0], \":\", item[1])"
   ]
  },
  {
   "cell_type": "code",
   "execution_count": null,
   "metadata": {},
   "outputs": [],
   "source": []
  }
 ],
 "metadata": {
  "interpreter": {
   "hash": "31f2aee4e71d21fbe5cf8b01ff0e069b9275f58929596ceb00d14d90e3e16cd6"
  },
  "kernelspec": {
   "display_name": "Python 3.8.10 64-bit",
   "language": "python",
   "name": "python3"
  },
  "language_info": {
   "codemirror_mode": {
    "name": "ipython",
    "version": 3
   },
   "file_extension": ".py",
   "mimetype": "text/x-python",
   "name": "python",
   "nbconvert_exporter": "python",
   "pygments_lexer": "ipython3",
   "version": "3.8.10"
  },
  "orig_nbformat": 4
 },
 "nbformat": 4,
 "nbformat_minor": 2
}
