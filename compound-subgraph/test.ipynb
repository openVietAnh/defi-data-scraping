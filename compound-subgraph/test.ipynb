{
 "cells": [
  {
   "cell_type": "code",
   "execution_count": 1,
   "metadata": {},
   "outputs": [],
   "source": [
    "\"\"\"\n",
    "    Get daily DAI data on Compound subgraph\n",
    "\"\"\"\n",
    "import csv\n",
    "import requests\n",
    "keys, token = [\"timestamp\", \"totalBorrowBalanceUSD\", \"totalValueLockedUSD\", \"depositRate\", \"borrowRate\"], []\n",
    "current_time = 1574984855\n",
    "last_transactions = set()\n",
    "\n",
    "\"\"\"\n",
    "{\n",
    "  marketDailySnapshots(where: {market_: {name: \"Compound Dai\"}}) {\n",
    "    market {\n",
    "      dailySnapshots(\n",
    "        first: 1000,\n",
    "        orderBy: timestamp,\n",
    "        orderDirection: asc,\n",
    "        where: { timestamp_gt: 1574984855 }) {\n",
    "        timestamp\n",
    "        totalBorrowBalanceUSD\n",
    "        totalValueLockedUSD\n",
    "      }\n",
    "    }\n",
    "  }\n",
    "}\n",
    "\"\"\"\n",
    "\n",
    "FIRST_PART_QUERY = \"\"\"\n",
    "{\n",
    "  markets(where: {name: \"Compound Dai\", id: \"0xf5dce57282a584d2746faf1593d3121fcac444dc\"}) {\n",
    "    name\n",
    "    dailySnapshots(\n",
    "      first: 1000,\n",
    "      orderBy: timestamp,\n",
    "      orderDirection: asc,\n",
    "      where: { timestamp_gt: \"\"\"\n",
    "SECOND_PART_QUERY = \"\"\"\n",
    " }) {\n",
    "      timestamp\n",
    "      totalBorrowBalanceUSD\n",
    "      totalValueLockedUSD\n",
    "      rates{\n",
    "        rate\n",
    "      }\n",
    "    }\n",
    "  }\n",
    "}\"\"\""
   ]
  },
  {
   "cell_type": "code",
   "execution_count": 2,
   "metadata": {},
   "outputs": [
    {
     "name": "stdout",
     "output_type": "stream",
     "text": [
      "887 rows found at timestamp 1574984855\n"
     ]
    }
   ],
   "source": [
    "while True:\n",
    "    query = FIRST_PART_QUERY + str(current_time) + SECOND_PART_QUERY\n",
    "    response = requests.post('https://gateway.thegraph.com/api/8ac4185a3b923f4e3c7be52e5c45c4bd/subgraphs/id/6tGbL7WBx287EZwGUvvcQdL6m67JGMJrma3JSTtt5SV7'\n",
    "                             '',\n",
    "                             json={'query': query})\n",
    "\n",
    "    if response.status_code != 200:\n",
    "        print(\"Problem reading from timestamp\", current_time, \":\", response.status_code)\n",
    "        continue\n",
    "    try:\n",
    "        data = response.json()[\"data\"][\"markets\"][0][\"dailySnapshots\"]\n",
    "    except (AttributeError, KeyError) as error:\n",
    "        print(\"Error at timestamp\", current_time)\n",
    "        print(error)\n",
    "        continue\n",
    "    if len(data) == 0:\n",
    "        break\n",
    "    print(len(data), \"rows found at timestamp\", current_time)\n",
    "    for token_data in data:\n",
    "        row = {}\n",
    "        row[\"timestamp\"] = token_data[\"timestamp\"]\n",
    "        row[\"totalBorrowBalanceUSD\"] = token_data[\"totalBorrowBalanceUSD\"]\n",
    "        row[\"totalValueLockedUSD\"] = token_data[\"totalValueLockedUSD\"]\n",
    "        row[\"depositRate\"] = token_data[\"rates\"][1][\"rate\"]\n",
    "        row[\"borrowRate\"] = token_data[\"rates\"][0][\"rate\"]\n",
    "        token.append(row)\n",
    "    current_time = int(data[-1][\"timestamp\"])"
   ]
  },
  {
   "cell_type": "code",
   "execution_count": 3,
   "metadata": {},
   "outputs": [],
   "source": [
    "with open('dai_2.csv', 'w', newline='') as output_file:\n",
    "    DICT_WRITER = csv.DictWriter(output_file, keys)\n",
    "    DICT_WRITER.writeheader()\n",
    "    DICT_WRITER.writerows(token)"
   ]
  },
  {
   "cell_type": "code",
   "execution_count": null,
   "metadata": {},
   "outputs": [],
   "source": []
  }
 ],
 "metadata": {
  "kernelspec": {
   "display_name": "Python 3",
   "language": "python",
   "name": "python3"
  },
  "language_info": {
   "codemirror_mode": {
    "name": "ipython",
    "version": 3
   },
   "file_extension": ".py",
   "mimetype": "text/x-python",
   "name": "python",
   "nbconvert_exporter": "python",
   "pygments_lexer": "ipython3",
   "version": "3.8.10"
  },
  "orig_nbformat": 4,
  "vscode": {
   "interpreter": {
    "hash": "916dbcbb3f70747c44a77c7bcd40155683ae19c65e1c03b4aa3499c5328201f1"
   }
  }
 },
 "nbformat": 4,
 "nbformat_minor": 2
}
