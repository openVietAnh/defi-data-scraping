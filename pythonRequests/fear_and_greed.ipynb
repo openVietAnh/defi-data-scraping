{
 "cells": [
  {
   "cell_type": "code",
   "execution_count": 1,
   "metadata": {},
   "outputs": [
    {
     "name": "stdout",
     "output_type": "stream",
     "text": [
      "1724\n"
     ]
    }
   ],
   "source": [
    "import requests\n",
    "response = requests.get('https://api.alternative.me/fng/?limit=0')\n",
    "data = response.json()[\"data\"]\n",
    "print(len(data))"
   ]
  },
  {
   "cell_type": "code",
   "execution_count": 3,
   "metadata": {},
   "outputs": [],
   "source": [
    "import datetime\n",
    "import csv\n",
    "rows = []\n",
    "for item in data:\n",
    "    r = {}\n",
    "    r[\"value\"] = item[\"value\"]\n",
    "    r[\"value_classification\"] = item[\"value_classification\"]\n",
    "    r[\"timestamp\"] = datetime.datetime.utcfromtimestamp(int(item[\"timestamp\"])).strftime(\"%Y/%m/%d %H:%M\")\n",
    "    rows.append(r)\n",
    "\n",
    "with open('../csvData/fear_and_greed.csv', 'w', newline='') as output_file:\n",
    "    DICT_WRITER = csv.DictWriter(output_file, [\"timestamp\", \"value\", \"value_classification\"])\n",
    "    DICT_WRITER.writeheader()\n",
    "    DICT_WRITER.writerows(rows)"
   ]
  }
 ],
 "metadata": {
  "kernelspec": {
   "display_name": "Python 3.8.10 64-bit",
   "language": "python",
   "name": "python3"
  },
  "language_info": {
   "codemirror_mode": {
    "name": "ipython",
    "version": 3
   },
   "file_extension": ".py",
   "mimetype": "text/x-python",
   "name": "python",
   "nbconvert_exporter": "python",
   "pygments_lexer": "ipython3",
   "version": "3.8.10"
  },
  "orig_nbformat": 4,
  "vscode": {
   "interpreter": {
    "hash": "31f2aee4e71d21fbe5cf8b01ff0e069b9275f58929596ceb00d14d90e3e16cd6"
   }
  }
 },
 "nbformat": 4,
 "nbformat_minor": 2
}
